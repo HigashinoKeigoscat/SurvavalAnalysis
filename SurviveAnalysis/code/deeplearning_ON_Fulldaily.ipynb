{
 "cells": [
  {
   "cell_type": "code",
   "execution_count": 12,
   "metadata": {},
   "outputs": [],
   "source": [
    "import torch\n",
    "import torch.nn as  nn\n",
    "import torch.nn.functional as F\n",
    "import pandas as pd\n",
    "from d2l import torch as d2l"
   ]
  },
  {
   "cell_type": "code",
   "execution_count": 13,
   "metadata": {},
   "outputs": [],
   "source": [
    "FullDaily=pd.read_excel(\"D:\\Data\\P2P\\FullDailyShutDownInf0630.xlsx\")"
   ]
  },
  {
   "cell_type": "code",
   "execution_count": 14,
   "metadata": {},
   "outputs": [
    {
     "data": {
      "text/html": [
       "<div>\n",
       "<style scoped>\n",
       "    .dataframe tbody tr th:only-of-type {\n",
       "        vertical-align: middle;\n",
       "    }\n",
       "\n",
       "    .dataframe tbody tr th {\n",
       "        vertical-align: top;\n",
       "    }\n",
       "\n",
       "    .dataframe thead th {\n",
       "        text-align: right;\n",
       "    }\n",
       "</style>\n",
       "<table border=\"1\" class=\"dataframe\">\n",
       "  <thead>\n",
       "    <tr style=\"text-align: right;\">\n",
       "      <th></th>\n",
       "      <th>black_time</th>\n",
       "      <th>平台失联</th>\n",
       "      <th>涉及司法或者介入</th>\n",
       "      <th>未知</th>\n",
       "      <th>运营暂停或清理</th>\n",
       "      <th>TotalShutDown</th>\n",
       "      <th>Cum_平台失联</th>\n",
       "      <th>Cum_涉及司法或者介入</th>\n",
       "      <th>Cum_未知</th>\n",
       "      <th>Cum_运营暂停或清理</th>\n",
       "      <th>Cum_TotalShutDown</th>\n",
       "    </tr>\n",
       "  </thead>\n",
       "  <tbody>\n",
       "    <tr>\n",
       "      <th>0</th>\n",
       "      <td>2013-04-02</td>\n",
       "      <td>0</td>\n",
       "      <td>0</td>\n",
       "      <td>0</td>\n",
       "      <td>1</td>\n",
       "      <td>1</td>\n",
       "      <td>0</td>\n",
       "      <td>0</td>\n",
       "      <td>0</td>\n",
       "      <td>1</td>\n",
       "      <td>1</td>\n",
       "    </tr>\n",
       "    <tr>\n",
       "      <th>1</th>\n",
       "      <td>2013-04-03</td>\n",
       "      <td>0</td>\n",
       "      <td>0</td>\n",
       "      <td>0</td>\n",
       "      <td>0</td>\n",
       "      <td>0</td>\n",
       "      <td>0</td>\n",
       "      <td>0</td>\n",
       "      <td>0</td>\n",
       "      <td>1</td>\n",
       "      <td>1</td>\n",
       "    </tr>\n",
       "    <tr>\n",
       "      <th>2</th>\n",
       "      <td>2013-04-04</td>\n",
       "      <td>0</td>\n",
       "      <td>0</td>\n",
       "      <td>0</td>\n",
       "      <td>0</td>\n",
       "      <td>0</td>\n",
       "      <td>0</td>\n",
       "      <td>0</td>\n",
       "      <td>0</td>\n",
       "      <td>1</td>\n",
       "      <td>1</td>\n",
       "    </tr>\n",
       "    <tr>\n",
       "      <th>3</th>\n",
       "      <td>2013-04-05</td>\n",
       "      <td>0</td>\n",
       "      <td>0</td>\n",
       "      <td>0</td>\n",
       "      <td>0</td>\n",
       "      <td>0</td>\n",
       "      <td>0</td>\n",
       "      <td>0</td>\n",
       "      <td>0</td>\n",
       "      <td>1</td>\n",
       "      <td>1</td>\n",
       "    </tr>\n",
       "    <tr>\n",
       "      <th>4</th>\n",
       "      <td>2013-04-06</td>\n",
       "      <td>0</td>\n",
       "      <td>0</td>\n",
       "      <td>0</td>\n",
       "      <td>0</td>\n",
       "      <td>0</td>\n",
       "      <td>0</td>\n",
       "      <td>0</td>\n",
       "      <td>0</td>\n",
       "      <td>1</td>\n",
       "      <td>1</td>\n",
       "    </tr>\n",
       "    <tr>\n",
       "      <th>...</th>\n",
       "      <td>...</td>\n",
       "      <td>...</td>\n",
       "      <td>...</td>\n",
       "      <td>...</td>\n",
       "      <td>...</td>\n",
       "      <td>...</td>\n",
       "      <td>...</td>\n",
       "      <td>...</td>\n",
       "      <td>...</td>\n",
       "      <td>...</td>\n",
       "      <td>...</td>\n",
       "    </tr>\n",
       "    <tr>\n",
       "      <th>2456</th>\n",
       "      <td>2019-12-23</td>\n",
       "      <td>0</td>\n",
       "      <td>0</td>\n",
       "      <td>0</td>\n",
       "      <td>0</td>\n",
       "      <td>0</td>\n",
       "      <td>3017</td>\n",
       "      <td>608</td>\n",
       "      <td>32</td>\n",
       "      <td>2141</td>\n",
       "      <td>5798</td>\n",
       "    </tr>\n",
       "    <tr>\n",
       "      <th>2457</th>\n",
       "      <td>2019-12-24</td>\n",
       "      <td>0</td>\n",
       "      <td>0</td>\n",
       "      <td>0</td>\n",
       "      <td>0</td>\n",
       "      <td>0</td>\n",
       "      <td>3017</td>\n",
       "      <td>608</td>\n",
       "      <td>32</td>\n",
       "      <td>2141</td>\n",
       "      <td>5798</td>\n",
       "    </tr>\n",
       "    <tr>\n",
       "      <th>2458</th>\n",
       "      <td>2019-12-25</td>\n",
       "      <td>0</td>\n",
       "      <td>0</td>\n",
       "      <td>0</td>\n",
       "      <td>0</td>\n",
       "      <td>0</td>\n",
       "      <td>3017</td>\n",
       "      <td>608</td>\n",
       "      <td>32</td>\n",
       "      <td>2141</td>\n",
       "      <td>5798</td>\n",
       "    </tr>\n",
       "    <tr>\n",
       "      <th>2459</th>\n",
       "      <td>2019-12-26</td>\n",
       "      <td>0</td>\n",
       "      <td>0</td>\n",
       "      <td>0</td>\n",
       "      <td>0</td>\n",
       "      <td>0</td>\n",
       "      <td>3017</td>\n",
       "      <td>608</td>\n",
       "      <td>32</td>\n",
       "      <td>2141</td>\n",
       "      <td>5798</td>\n",
       "    </tr>\n",
       "    <tr>\n",
       "      <th>2460</th>\n",
       "      <td>2019-12-27</td>\n",
       "      <td>0</td>\n",
       "      <td>0</td>\n",
       "      <td>0</td>\n",
       "      <td>0</td>\n",
       "      <td>0</td>\n",
       "      <td>3017</td>\n",
       "      <td>608</td>\n",
       "      <td>32</td>\n",
       "      <td>2141</td>\n",
       "      <td>5798</td>\n",
       "    </tr>\n",
       "  </tbody>\n",
       "</table>\n",
       "<p>2461 rows × 11 columns</p>\n",
       "</div>"
      ],
      "text/plain": [
       "     black_time  平台失联  涉及司法或者介入  未知  运营暂停或清理  TotalShutDown  Cum_平台失联  \\\n",
       "0    2013-04-02     0         0   0        1              1         0   \n",
       "1    2013-04-03     0         0   0        0              0         0   \n",
       "2    2013-04-04     0         0   0        0              0         0   \n",
       "3    2013-04-05     0         0   0        0              0         0   \n",
       "4    2013-04-06     0         0   0        0              0         0   \n",
       "...         ...   ...       ...  ..      ...            ...       ...   \n",
       "2456 2019-12-23     0         0   0        0              0      3017   \n",
       "2457 2019-12-24     0         0   0        0              0      3017   \n",
       "2458 2019-12-25     0         0   0        0              0      3017   \n",
       "2459 2019-12-26     0         0   0        0              0      3017   \n",
       "2460 2019-12-27     0         0   0        0              0      3017   \n",
       "\n",
       "      Cum_涉及司法或者介入  Cum_未知  Cum_运营暂停或清理  Cum_TotalShutDown  \n",
       "0                0       0            1                  1  \n",
       "1                0       0            1                  1  \n",
       "2                0       0            1                  1  \n",
       "3                0       0            1                  1  \n",
       "4                0       0            1                  1  \n",
       "...            ...     ...          ...                ...  \n",
       "2456           608      32         2141               5798  \n",
       "2457           608      32         2141               5798  \n",
       "2458           608      32         2141               5798  \n",
       "2459           608      32         2141               5798  \n",
       "2460           608      32         2141               5798  \n",
       "\n",
       "[2461 rows x 11 columns]"
      ]
     },
     "execution_count": 14,
     "metadata": {},
     "output_type": "execute_result"
    }
   ],
   "source": [
    "FullDaily"
   ]
  },
  {
   "cell_type": "code",
   "execution_count": 15,
   "metadata": {},
   "outputs": [
    {
     "name": "stdout",
     "output_type": "stream",
     "text": [
      "(2461,)\n"
     ]
    }
   ],
   "source": [
    "# -*- coding: utf-8 -*-\n",
    "\"\"\"main.ipynb\n",
    "Automatically generated by Colaboratory.\n",
    "Original file is located at\n",
    "    https://colab.research.google.com/drive/1W2_OxJ3JcWnvnG8wugwms-ETq0pRYX_v\n",
    "\"\"\"\n",
    " \n",
    "import numpy as np\n",
    "import pandas as pd\n",
    " \n",
    " \n",
    "data = FullDaily[\"TotalShutDown\"]\n",
    "print(data.shape)"
   ]
  },
  {
   "cell_type": "code",
   "execution_count": 16,
   "metadata": {},
   "outputs": [],
   "source": [
    "import matplotlib.pyplot as plt\n",
    " \n",
    "data = data.astype('float32')\n",
    "mx = np.max(data)\n",
    "mn = np.min(data)\n",
    "data = (data - mn) / (mx - mn)\n",
    " \n",
    "input_len = 100\n",
    " \n",
    "def generate_dataset(data, days_for_train):\n",
    "    dataset_x, dataset_y = [], []\n",
    "    for i in range(len(data) - days_for_train):\n",
    "        cur_x = data[i:(i + days_for_train)]\n",
    "        cur_y = data[i + days_for_train]\n",
    "        dataset_x.append(cur_x)\n",
    "        dataset_y.append(cur_y)\n",
    "    return np.array(dataset_x), np.array(dataset_y)\n"
   ]
  },
  {
   "cell_type": "code",
   "execution_count": 17,
   "metadata": {},
   "outputs": [
    {
     "data": {
      "text/plain": [
       "63.0"
      ]
     },
     "execution_count": 17,
     "metadata": {},
     "output_type": "execute_result"
    }
   ],
   "source": [
    "mx"
   ]
  },
  {
   "cell_type": "code",
   "execution_count": 18,
   "metadata": {},
   "outputs": [
    {
     "name": "stdout",
     "output_type": "stream",
     "text": [
      "True\n",
      "1\n",
      "NVIDIA GeForce RTX 3060 Laptop GPU\n"
     ]
    }
   ],
   "source": [
    "import torch\n",
    "import torch.nn as nn\n",
    "import torch.optim as optim\n",
    " \n",
    "print(torch.cuda.is_available())\n",
    "print(torch.cuda.device_count())\n",
    "print(torch.cuda.get_device_name(0))\n"
   ]
  },
  {
   "cell_type": "code",
   "execution_count": 19,
   "metadata": {},
   "outputs": [],
   "source": [
    "dataset_x, dataset_y = generate_dataset(data, input_len)\n",
    "train_len = int(len(dataset_x) * 0.7)\n",
    "train_x, train_y = dataset_x[:train_len], dataset_y[:train_len]\n",
    "train_x, train_y = torch.from_numpy(train_x), torch.from_numpy(train_y)\n",
    "train_x = train_x.reshape(-1, 1, input_len)\n",
    "train_y = train_y.reshape(-1, 1, 1)"
   ]
  },
  {
   "cell_type": "code",
   "execution_count": 20,
   "metadata": {},
   "outputs": [],
   "source": [
    "class Regression(nn.Module):\n",
    "    def __init__(self, input_size, hidden_size, output_size, num_layers):\n",
    "        super().__init__()\n",
    "        \n",
    "        self.gru = nn.GRU(input_size, hidden_size, num_layers)\n",
    "        self.fc = nn.Linear(hidden_size, output_size)\n",
    "        #self.dropout = nn.Dropout(p=0.1)\n",
    "    \n",
    "    def forward(self, _x):\n",
    "        x, _ = self.gru(_x)\n",
    "        s, b, h = x.shape\n",
    "        x = x.reshape(s * b, h)\n",
    "        x = self.fc(x)\n",
    "        x = x.reshape(s, b, 1)\n",
    "        #x = self.dropout(x)\n",
    "        return x\n",
    " "
   ]
  },
  {
   "cell_type": "code",
   "execution_count": 21,
   "metadata": {},
   "outputs": [
    {
     "name": "stdout",
     "output_type": "stream",
     "text": [
      "Epoch 100\n",
      "Loss: 0.006984072737395763\n",
      "Epoch 200\n",
      "Loss: 0.006443342659622431\n",
      "Epoch 300\n",
      "Loss: 0.006148199085146189\n",
      "Epoch 400\n",
      "Loss: 0.0059628114104270935\n",
      "Epoch 500\n",
      "Loss: 0.005837431643158197\n",
      "Epoch 600\n",
      "Loss: 0.005748199298977852\n",
      "Epoch 700\n",
      "Loss: 0.005682158283889294\n",
      "Epoch 800\n",
      "Loss: 0.00563178863376379\n",
      "Epoch 900\n",
      "Loss: 0.005592337343841791\n",
      "Epoch 1000\n",
      "Loss: 0.005560643505305052\n"
     ]
    }
   ],
   "source": [
    "loss_function = nn.MSELoss()\n",
    "epochs = 1000\n",
    "model = Regression(input_len, hidden_size=10, output_size=1, num_layers=1)\n",
    "opt = optim.SGD(model.parameters(), lr=0.2)\n",
    " \n",
    "device = torch.device(\"cuda\" if torch.cuda.is_available() else \"cpu\")\n",
    " \n",
    "model = model.to(device)\n",
    "train_x = train_x.to(device)\n",
    "train_y = train_y.to(device)\n",
    " \n",
    "model.train()\n",
    " \n",
    "for epoch in range(epochs):\n",
    "    opt.zero_grad()\n",
    "    \n",
    "    out = model.forward(train_x)\n",
    "    loss = loss_function(out, train_y)\n",
    "    \n",
    "    loss.backward()\n",
    "    opt.step()\n",
    "    \n",
    "    if (epoch + 1) % 100 == 0:\n",
    "        print(\"Epoch\", epoch+1)\n",
    "        print(\"Loss:\", loss.item())\n",
    " \n",
    "model = model.eval()\n",
    "dataset_x = dataset_x.reshape(-1, 1, input_len)\n",
    "dataset_x = torch.from_numpy(dataset_x).to(device)\n",
    " \n",
    "pred = model.forward(dataset_x)\n",
    "pred = pred.reshape(len(dataset_x))\n",
    "pred = torch.cat((torch.zeros(input_len), pred.cpu()))\n",
    "pred = pred.detach().numpy()\n",
    " \n",
    "assert len(pred) == len(data)\n",
    " "
   ]
  },
  {
   "cell_type": "code",
   "execution_count": 22,
   "metadata": {},
   "outputs": [
    {
     "data": {
      "image/png": "[encoded data removed]",
      "text/plain": [
       "<Figure size 432x288 with 1 Axes>"
      ]
     },
     "metadata": {
      "needs_background": "light"
     },
     "output_type": "display_data"
    },
    {
     "data": {
      "image/png": "[encoded data removed]",
      "text/plain": [
       "<Figure size 432x288 with 1 Axes>"
      ]
     },
     "metadata": {
      "needs_background": "light"
     },
     "output_type": "display_data"
    },
    {
     "name": "stdout",
     "output_type": "stream",
     "text": [
      "Predicted price of 2020.10.26: 0.8790262\n"
     ]
    }
   ],
   "source": [
    "plt.plot(data, 'b', label='data')\n",
    "plt.plot(pred, 'r', label='prediction')\n",
    "\n",
    "plt.plot((train_len, train_len), (0, 1), 'g--')\n",
    "plt.legend()\n",
    "plt.show()\n",
    " \n",
    "data *= (mx - mn)\n",
    "data += mn\n",
    "pred *= (mx - mn)\n",
    "pred += mn\n",
    "plt.plot(data, 'b', label='data')\n",
    "plt.plot(pred, 'r', label='prediction')\n",
    "plt.plot((train_len, train_len), (0, 1), 'g--')\n",
    "plt.legend()\n",
    "plt.show()\n",
    " \n",
    "print(\"Predicted price of 2020.10.26:\", pred[-1])\n",
    " "
   ]
  },
  {
   "cell_type": "code",
   "execution_count": null,
   "metadata": {},
   "outputs": [],
   "source": []
  }
 ],
 "metadata": {
  "kernelspec": {
   "display_name": "Python 3.8.13 ('pytorch')",
   "language": "python",
   "name": "python3"
  },
  "language_info": {
   "codemirror_mode": {
    "name": "ipython",
    "version": 3
   },
   "file_extension": ".py",
   "mimetype": "text/x-python",
   "name": "python",
   "nbconvert_exporter": "python",
   "pygments_lexer": "ipython3",
   "version": "3.8.13"
  },
  "orig_nbformat": 4,
  "vscode": {
   "interpreter": {
    "hash": "0747f93ff6db21b2db2bf35ad4858dd0825b9c21797c41b4cc32097944ab3f10"
   }
  }
 },
 "nbformat": 4,
 "nbformat_minor": 2
}
